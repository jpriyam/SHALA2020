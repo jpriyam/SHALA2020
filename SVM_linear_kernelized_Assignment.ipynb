{
  "nbformat": 4,
  "nbformat_minor": 0,
  "metadata": {
    "colab": {
      "name": "SVM_linear_kernelized_Assignment.ipynb",
      "provenance": [],
      "collapsed_sections": [],
      "include_colab_link": true
    },
    "kernelspec": {
      "name": "python3",
      "display_name": "Python 3"
    }
  },
  "cells": [
    {
      "cell_type": "markdown",
      "metadata": {
        "id": "view-in-github",
        "colab_type": "text"
      },
      "source": [
        "<a href=\"https://colab.research.google.com/github/jpriyam/SHALA2020/blob/master/SVM_linear_kernelized_Assignment.ipynb\" target=\"_parent\"><img src=\"https://colab.research.google.com/assets/colab-badge.svg\" alt=\"Open In Colab\"/></a>"
      ]
    },
    {
      "cell_type": "markdown",
      "metadata": {
        "id": "arLDVfoh4rOg",
        "colab_type": "text"
      },
      "source": [
        "#**SVM**"
      ]
    },
    {
      "cell_type": "code",
      "metadata": {
        "id": "MEEp0sf04pIP",
        "colab_type": "code",
        "colab": {}
      },
      "source": [
        "import numpy as np\n",
        "import matplotlib.pyplot as plt\n",
        "import random\n",
        "from numpy import linalg as LA"
      ],
      "execution_count": 0,
      "outputs": []
    },
    {
      "cell_type": "markdown",
      "metadata": {
        "id": "vJ2o5DL4478w",
        "colab_type": "text"
      },
      "source": [
        "\n",
        "\n",
        "---\n",
        "\n",
        "\n",
        "**Generating Random linearly separable data**\n",
        "\n",
        "\n",
        "---\n",
        "\n"
      ]
    },
    {
      "cell_type": "code",
      "metadata": {
        "id": "UbaJAhdL5BLA",
        "colab_type": "code",
        "colab": {}
      },
      "source": [
        "np.random.seed(7)\n",
        "data = [[np.random.rand(), np.random.rand()] for i in range(10)]\n",
        "\n",
        "for i, point in enumerate(data):\n",
        "  x, y = point\n",
        "  if 0.5*x - y + 0.25 > 0:\n",
        "    data[i].append(-1)\n",
        "  else:\n",
        "    data[i].append(1)\n",
        "\n"
      ],
      "execution_count": 0,
      "outputs": []
    },
    {
      "cell_type": "markdown",
      "metadata": {
        "id": "S3afrVhJ5FSS",
        "colab_type": "text"
      },
      "source": [
        "\n",
        "\n",
        "---\n",
        "\n",
        "\n",
        "**Visualizing the above data**\n",
        "\n",
        "\n",
        "---\n",
        "\n"
      ]
    },
    {
      "cell_type": "code",
      "metadata": {
        "id": "6x0FkJik5LPi",
        "colab_type": "code",
        "outputId": "a5b9621d-0453-4917-a3e4-09e481cd23cf",
        "colab": {
          "base_uri": "https://localhost:8080/",
          "height": 269
        }
      },
      "source": [
        "for x, y, l in data:\n",
        "  if l == 1: \n",
        "    clr = 'red'\n",
        "  else: \n",
        "    clr = 'blue'\n",
        "  plt.scatter(x, y, c=clr)\n",
        "  plt.xlim(0,1)\n",
        "  plt.ylim(0,1)"
      ],
      "execution_count": 3,
      "outputs": [
        {
          "output_type": "display_data",
          "data": {
            "image/png": "[encoded data removed]",
            "text/plain": [
              "<Figure size 432x288 with 1 Axes>"
            ]
          },
          "metadata": {
            "tags": [],
            "needs_background": "light"
          }
        }
      ]
    },
    {
      "cell_type": "markdown",
      "metadata": {
        "id": "yXabL9FB5Qe1",
        "colab_type": "text"
      },
      "source": [
        "\n",
        "\n",
        "---\n",
        "\n",
        "\n",
        "**Train a SVM classifier using gradient descent and return a Weight Matrix which is a numpy array of length (N + 1) where N is dimension of training samples. You can refer to Fig. 1 in [this](https://www.cs.huji.ac.il/~shais/papers/ShalevSiSrCo10.pdf) paper for implementation. You can add arguments to svm_function according to your implementation.**\n",
        "\n",
        "\n",
        "---\n",
        "\n"
      ]
    },
    {
      "cell_type": "code",
      "metadata": {
        "id": "LpSHX3lT5VDt",
        "colab_type": "code",
        "colab": {}
      },
      "source": [
        "def svm_function(x, y, epochs, l_rate):\n",
        "    w = np.zeros(len(x[0]))\n",
        "    eta = 1\n",
        "    for epoch in range(1,epochs):\n",
        "        eta = 1/(l_rate*epoch)\n",
        "        for i, xi in enumerate(x):\n",
        "            if (y[i]*np.dot(x[i], w)) < 1:\n",
        "                w = w + eta * ( (x[i] * y[i]) - (l_rate* w))\n",
        "            else:\n",
        "                w = w - eta * (l_rate* w)\n",
        "    return w"
      ],
      "execution_count": 0,
      "outputs": []
    },
    {
      "cell_type": "markdown",
      "metadata": {
        "id": "-GMSHqOB5Y7n",
        "colab_type": "text"
      },
      "source": [
        "\n",
        "\n",
        "---\n",
        "\n",
        "\n",
        "**Run SVM Classifier**\n",
        "\n",
        "\n",
        "---\n",
        "\n"
      ]
    },
    {
      "cell_type": "code",
      "metadata": {
        "id": "MY2AcFkZ5d2a",
        "colab_type": "code",
        "outputId": "a1aa0468-aef3-48fc-f5cb-f5c4ea35f3b8",
        "colab": {
          "base_uri": "https://localhost:8080/",
          "height": 34
        }
      },
      "source": [
        "data = np.asarray(data)\n",
        "X_temp = data[:,:2]\n",
        "Y = data[:,2] \n",
        "X = np.ones((X_temp.shape[0],X_temp.shape[1]+1))\n",
        "X[:,:-1] = X_temp\n",
        "w = svm_function(X, Y, 10000, 0.01)\n",
        "print(w)\n",
        "#print(X)\n",
        "#print(X_temp)"
      ],
      "execution_count": 5,
      "outputs": [
        {
          "output_type": "stream",
          "text": [
            "[-3.0468159   3.8624519  -0.09567808]\n"
          ],
          "name": "stdout"
        }
      ]
    },
    {
      "cell_type": "markdown",
      "metadata": {
        "id": "4t6lPISE5h4e",
        "colab_type": "text"
      },
      "source": [
        "# **Visualize the classifier**\n",
        "\n",
        "\n",
        "---\n",
        "\n",
        "Write a code to draw a lines corrosponding to 'w' vector you got as output from svm_function and for a line from which actual data was generated (0.5*x - y + 0.25). \n",
        "\n",
        "---\n",
        "\n"
      ]
    },
    {
      "cell_type": "code",
      "metadata": {
        "id": "wrCLTSVx5mBF",
        "colab_type": "code",
        "outputId": "1b9176d7-3802-4dd3-a81b-cf960fdef946",
        "colab": {
          "base_uri": "https://localhost:8080/",
          "height": 286
        }
      },
      "source": [
        "for x, y, l in data:\n",
        "  if l == 1: \n",
        "    clr = 'red'\n",
        "  else: \n",
        "    clr = 'blue'\n",
        "  plt.scatter(x, y, c=clr)\n",
        "x1 = np.linspace(-5,5,100)\n",
        "y1 = (-w[0]*x1-w[2])/w[1]\n",
        "plt.plot(x1, y1, color='black', label=\"SVM boundary\")\n",
        "xx = np.linspace(0,1,1000)\n",
        "y_pred1 = (-w[0]*xx - w[2])/w[1] + 1/LA.norm(w)\n",
        "plt.plot(xx, y_pred1, label = '1st Support Vector',color='red')\n",
        "y_pred2 = (-w[0]*xx - w[2])/w[1] - 1/LA.norm(w)\n",
        "plt.plot(xx, y_pred2, label = '2nd Support Vector',color='blue')\n",
        "plt.xlim(0,1)\n",
        "plt.ylim(0,1)\n",
        "plt.legend(loc='upper right')"
      ],
      "execution_count": 6,
      "outputs": [
        {
          "output_type": "execute_result",
          "data": {
            "text/plain": [
              "<matplotlib.legend.Legend at 0x7f44d025f198>"
            ]
          },
          "metadata": {
            "tags": []
          },
          "execution_count": 6
        },
        {
          "output_type": "display_data",
          "data": {
            "image/png": "[encoded data removed]",
            "text/plain": [
              "<Figure size 432x288 with 1 Axes>"
            ]
          },
          "metadata": {
            "tags": [],
            "needs_background": "light"
          }
        }
      ]
    },
    {
      "cell_type": "markdown",
      "metadata": {
        "id": "zSQ2B6IK7pRq",
        "colab_type": "text"
      },
      "source": [
        "#**Linearly Non-separable Data**"
      ]
    },
    {
      "cell_type": "code",
      "metadata": {
        "id": "kZ5Mt_3Z73WS",
        "colab_type": "code",
        "outputId": "1f4ce2d4-7d89-4e47-b634-54ead38debac",
        "colab": {
          "base_uri": "https://localhost:8080/",
          "height": 279
        }
      },
      "source": [
        "from sklearn.datasets import make_circles\n",
        "from matplotlib import pyplot\n",
        "from pandas import DataFrame\n",
        "\n",
        "# generate 2d classification dataset\n",
        "X, Y = make_circles(n_samples=100, noise=0.05)\n",
        "# scatter plot, dots colored by class value\n",
        "df = DataFrame(dict(x=X[:,0], y=X[:,1], label=Y))\n",
        "colors = {0:'red', 1:'blue'}\n",
        "fig, ax = pyplot.subplots()\n",
        "grouped = df.groupby('label')\n",
        "for key, group in grouped:\n",
        "    group.plot(ax=ax, kind='scatter', x='x', y='y', label=key, color=colors[key])\n",
        "pyplot.show()\n"
      ],
      "execution_count": 7,
      "outputs": [
        {
          "output_type": "display_data",
          "data": {
            "image/png": "[encoded data removed]",
            "text/plain": [
              "<Figure size 432x288 with 1 Axes>"
            ]
          },
          "metadata": {
            "tags": [],
            "needs_background": "light"
          }
        }
      ]
    },
    {
      "cell_type": "markdown",
      "metadata": {
        "id": "SDtuOIuy6xPL",
        "colab_type": "text"
      },
      "source": [
        "\n",
        "\n",
        "---\n",
        "\n",
        "\n",
        "**Train a SVM classifier on the linearly non-separable data by appropriate features crafted from input data For linearly non-separable data, you need to transform the data in a space where it can be linearly seprable.\n",
        "These features can be exponential, polynomial, trignometric or any other function of actual input features.\n",
        "For example, if your input data is (x1, x2) you can have hand-crafted features as (sin(x1), cos(x1), cos(x2), x1-x2).\n",
        "Here you need to think of which hand-crafted features can be best suited for data given to you.\n",
        "Write a function to convert input features to hand-crafted features. Use these features to train a SVM using svm_function.\n",
        "Note that, if you choose to have L hand-crafted features, SVM will return L+1 dimensional 'w'.**\n",
        "\n",
        "\n",
        "---\n",
        "\n"
      ]
    },
    {
      "cell_type": "code",
      "metadata": {
        "id": "rZF4nHvz6-2I",
        "colab_type": "code",
        "outputId": "25cfec47-f084-45f3-dd90-7d6a8ddb1694",
        "colab": {
          "base_uri": "https://localhost:8080/",
          "height": 255
        }
      },
      "source": [
        "df['x_sq']=df['x']*np.sin(df['x'])\n",
        "df['y_sq']=df['y']*np.cos(df['x'])\n",
        "print(df)"
      ],
      "execution_count": 8,
      "outputs": [
        {
          "output_type": "stream",
          "text": [
            "           x         y  label      x_sq      y_sq\n",
            "0  -0.232658 -0.772565      1  0.053643 -0.751750\n",
            "1   0.947422 -0.164719      0  0.769225 -0.096159\n",
            "2   0.239920 -1.028215      0  0.057011 -0.998764\n",
            "3  -0.669672 -0.797061      0  0.415684 -0.624916\n",
            "4  -0.454160  0.599839      1  0.199244  0.539033\n",
            "..       ...       ...    ...       ...       ...\n",
            "95 -0.810377  0.215872      1  0.587156  0.148784\n",
            "96  0.528139  0.573064      1  0.266144  0.494982\n",
            "97 -0.414595 -0.886476      0  0.167007 -0.811374\n",
            "98 -0.074010  0.685101      1  0.005473  0.683225\n",
            "99  0.210507  0.818076      1  0.043987  0.800017\n",
            "\n",
            "[100 rows x 5 columns]\n"
          ],
          "name": "stdout"
        }
      ]
    },
    {
      "cell_type": "markdown",
      "metadata": {
        "id": "k9RC8lVS81F8",
        "colab_type": "text"
      },
      "source": [
        "\n",
        "\n",
        "---\n",
        "\n",
        "\n",
        "**Visualize the data points in the new feature space \"if possible\" to see whether they got separated or not.**\n",
        "\n",
        "\n",
        "---\n",
        "\n"
      ]
    },
    {
      "cell_type": "code",
      "metadata": {
        "id": "T_M3rNKF7g-W",
        "colab_type": "code",
        "colab": {}
      },
      "source": [
        "def cart2pol(x, y):\n",
        "    r = np.sqrt(x**2 + y**2)\n",
        "    theta = np.arctan2(y, x)\n",
        "    return r, theta\n",
        "\n",
        "def pol2cart(r, theta):\n",
        "    x = r * np.cos(theta)\n",
        "    y = r * np.sin(theta)\n",
        "    return x, y"
      ],
      "execution_count": 0,
      "outputs": []
    },
    {
      "cell_type": "code",
      "metadata": {
        "id": "1AOVkVM09PI9",
        "colab_type": "code",
        "colab": {}
      },
      "source": [
        "pol=cart2pol(X[:,0],X[:,1])\n",
        "pol=np.column_stack((pol[0],pol[1]))\n",
        "Y[Y==0]=-1"
      ],
      "execution_count": 0,
      "outputs": []
    },
    {
      "cell_type": "code",
      "metadata": {
        "id": "pXdJrv8GO_nx",
        "colab_type": "code",
        "outputId": "055420bd-702c-4b68-eb7d-32927e9ef881",
        "colab": {
          "base_uri": "https://localhost:8080/",
          "height": 336
        }
      },
      "source": [
        "import seaborn as sns\n",
        "sns.scatterplot(x=pol[:,0],y=pol[:,1],hue=Y)"
      ],
      "execution_count": 11,
      "outputs": [
        {
          "output_type": "stream",
          "text": [
            "/usr/local/lib/python3.6/dist-packages/statsmodels/tools/_testing.py:19: FutureWarning: pandas.util.testing is deprecated. Use the functions in the public API at pandas.testing instead.\n",
            "  import pandas.util.testing as tm\n"
          ],
          "name": "stderr"
        },
        {
          "output_type": "execute_result",
          "data": {
            "text/plain": [
              "<matplotlib.axes._subplots.AxesSubplot at 0x7f44c2804b38>"
            ]
          },
          "metadata": {
            "tags": []
          },
          "execution_count": 11
        },
        {
          "output_type": "display_data",
          "data": {
            "image/png": "[encoded data removed]",
            "text/plain": [
              "<Figure size 432x288 with 1 Axes>"
            ]
          },
          "metadata": {
            "tags": [],
            "needs_background": "light"
          }
        }
      ]
    },
    {
      "cell_type": "code",
      "metadata": {
        "id": "Guru-KVAF4oI",
        "colab_type": "code",
        "outputId": "39903ea3-6b8d-4ec0-9a56-0e132a463514",
        "colab": {
          "base_uri": "https://localhost:8080/",
          "height": 1000
        }
      },
      "source": [
        "pol_temp = pol\n",
        "pol = np.ones((pol_temp.shape[0],pol_temp.shape[1]+1))\n",
        "pol[:,:-1] = pol_temp\n",
        "pol"
      ],
      "execution_count": 12,
      "outputs": [
        {
          "output_type": "execute_result",
          "data": {
            "text/plain": [
              "array([[ 0.80683775, -1.86330836,  1.        ],\n",
              "       [ 0.96163469, -0.17213931,  1.        ],\n",
              "       [ 1.05583478, -1.34156161,  1.        ],\n",
              "       [ 1.04104075, -2.26955968,  1.        ],\n",
              "       [ 0.75237537,  2.21884916,  1.        ],\n",
              "       [ 0.83866618,  0.19238509,  1.        ],\n",
              "       [ 0.7264605 , -1.08189791,  1.        ],\n",
              "       [ 1.0290883 , -0.61029219,  1.        ],\n",
              "       [ 0.88082545,  1.62305641,  1.        ],\n",
              "       [ 0.80570287, -0.4542649 ,  1.        ],\n",
              "       [ 0.98286267,  0.06323669,  1.        ],\n",
              "       [ 0.7544878 ,  0.56321789,  1.        ],\n",
              "       [ 0.85655721,  1.8434079 ,  1.        ],\n",
              "       [ 0.75979174, -2.31280569,  1.        ],\n",
              "       [ 0.67023604, -0.50371316,  1.        ],\n",
              "       [ 0.79559995,  1.60338237,  1.        ],\n",
              "       [ 1.13100324,  0.69378296,  1.        ],\n",
              "       [ 1.08217518, -2.7900403 ,  1.        ],\n",
              "       [ 0.81203188, -0.73853481,  1.        ],\n",
              "       [ 0.8952663 ,  1.09003634,  1.        ],\n",
              "       [ 0.86031228,  3.00726461,  1.        ],\n",
              "       [ 0.8100351 ,  0.97048499,  1.        ],\n",
              "       [ 0.93058032,  3.05986618,  1.        ],\n",
              "       [ 1.11442887, -3.10810896,  1.        ],\n",
              "       [ 0.86358235,  0.35518239,  1.        ],\n",
              "       [ 1.04666444,  0.73575209,  1.        ],\n",
              "       [ 1.09944426,  2.78995711,  1.        ],\n",
              "       [ 1.04274488, -1.74421208,  1.        ],\n",
              "       [ 0.98019908, -1.37613173,  1.        ],\n",
              "       [ 0.81433106, -2.98337991,  1.        ],\n",
              "       [ 0.98844442, -0.52513382,  1.        ],\n",
              "       [ 0.81147405,  0.71329892,  1.        ],\n",
              "       [ 0.94877644, -0.9890091 ,  1.        ],\n",
              "       [ 1.1069905 ,  1.72138404,  1.        ],\n",
              "       [ 0.739239  , -0.63107324,  1.        ],\n",
              "       [ 0.94905162, -2.96367103,  1.        ],\n",
              "       [ 0.97757292,  0.95549575,  1.        ],\n",
              "       [ 0.86153823,  2.55555564,  1.        ],\n",
              "       [ 0.73487808, -2.62812926,  1.        ],\n",
              "       [ 1.07526614,  1.82905646,  1.        ],\n",
              "       [ 1.06294738,  2.47612269,  1.        ],\n",
              "       [ 0.92999772,  1.78020109,  1.        ],\n",
              "       [ 0.78552255,  0.2756006 ,  1.        ],\n",
              "       [ 0.77345812, -1.80057177,  1.        ],\n",
              "       [ 0.79492603, -3.05960194,  1.        ],\n",
              "       [ 0.88902261, -1.01001052,  1.        ],\n",
              "       [ 0.92644763, -0.83725715,  1.        ],\n",
              "       [ 0.84111583,  1.29021044,  1.        ],\n",
              "       [ 0.92986777,  1.46686591,  1.        ],\n",
              "       [ 0.81633953, -1.28758233,  1.        ],\n",
              "       [ 0.93858424, -0.35041622,  1.        ],\n",
              "       [ 0.98051821,  1.35290707,  1.        ],\n",
              "       [ 1.01506412,  0.47444626,  1.        ],\n",
              "       [ 0.86283361, -1.41929848,  1.        ],\n",
              "       [ 1.08128858,  2.2022599 ,  1.        ],\n",
              "       [ 0.82064513,  0.08961312,  1.        ],\n",
              "       [ 0.71878076,  2.07931143,  1.        ],\n",
              "       [ 0.99316785,  0.2504314 ,  1.        ],\n",
              "       [ 0.78988636, -2.25022445,  1.        ],\n",
              "       [ 0.91687856,  2.09859742,  1.        ],\n",
              "       [ 1.04322166, -2.70688458,  1.        ],\n",
              "       [ 0.82632464, -1.10928893,  1.        ],\n",
              "       [ 1.04869833, -1.66191659,  1.        ],\n",
              "       [ 0.87282382,  0.81581922,  1.        ],\n",
              "       [ 0.92688968, -2.46416606,  1.        ],\n",
              "       [ 1.02396029, -2.11433276,  1.        ],\n",
              "       [ 0.78098849,  2.25175669,  1.        ],\n",
              "       [ 0.73993869, -1.03122095,  1.        ],\n",
              "       [ 1.05889599, -2.88451239,  1.        ],\n",
              "       [ 0.9007146 ,  2.40898544,  1.        ],\n",
              "       [ 0.7762841 , -1.24188009,  1.        ],\n",
              "       [ 0.81407255, -3.00652583,  1.        ],\n",
              "       [ 0.95422561,  2.68161175,  1.        ],\n",
              "       [ 0.74975683, -2.51435053,  1.        ],\n",
              "       [ 1.03874643,  0.89761109,  1.        ],\n",
              "       [ 0.77187333, -0.17080753,  1.        ],\n",
              "       [ 0.79216782, -1.9666648 ,  1.        ],\n",
              "       [ 1.04358683, -1.82078524,  1.        ],\n",
              "       [ 1.06878923,  1.22946968,  1.        ],\n",
              "       [ 0.96853602,  2.90035632,  1.        ],\n",
              "       [ 0.82065998,  2.71757184,  1.        ],\n",
              "       [ 0.94350611, -0.7654763 ,  1.        ],\n",
              "       [ 1.01388031, -2.35978215,  1.        ],\n",
              "       [ 0.97419032,  1.97853427,  1.        ],\n",
              "       [ 0.85125487, -0.29860007,  1.        ],\n",
              "       [ 1.01579025,  0.12787712,  1.        ],\n",
              "       [ 0.85846972, -0.25237295,  1.        ],\n",
              "       [ 0.76654967, -2.13502455,  1.        ],\n",
              "       [ 0.77303845,  2.79618764,  1.        ],\n",
              "       [ 0.84606065,  2.25231599,  1.        ],\n",
              "       [ 0.8132188 , -1.71107348,  1.        ],\n",
              "       [ 0.94192305,  1.18899003,  1.        ],\n",
              "       [ 0.98016505,  0.4796865 ,  1.        ],\n",
              "       [ 0.90996334, -1.54333848,  1.        ],\n",
              "       [ 0.82455942, -2.62576676,  1.        ],\n",
              "       [ 0.83863672,  2.88125385,  1.        ],\n",
              "       [ 0.77931642,  0.82617192,  1.        ],\n",
              "       [ 0.97863672, -2.00826269,  1.        ],\n",
              "       [ 0.68908654,  1.67840739,  1.        ],\n",
              "       [ 0.84472582,  1.31894054,  1.        ]])"
            ]
          },
          "metadata": {
            "tags": []
          },
          "execution_count": 12
        }
      ]
    },
    {
      "cell_type": "code",
      "metadata": {
        "id": "eAxEYZtW4sFF",
        "colab_type": "code",
        "colab": {
          "base_uri": "https://localhost:8080/",
          "height": 34
        },
        "outputId": "90d40175-767c-41f6-edca-b16f6e0467fa"
      },
      "source": [
        "w_new = svm_function(pol, Y, 100000, 0.001)\n",
        "print(w_new)"
      ],
      "execution_count": 13,
      "outputs": [
        {
          "output_type": "stream",
          "text": [
            "[-11.90578426   0.02171036  10.64968577]\n"
          ],
          "name": "stdout"
        }
      ]
    },
    {
      "cell_type": "code",
      "metadata": {
        "id": "9D4-lQb84xq0",
        "colab_type": "code",
        "colab": {
          "base_uri": "https://localhost:8080/",
          "height": 265
        },
        "outputId": "247ffc57-b4a6-41cf-8af7-42eded9a2aeb"
      },
      "source": [
        "sns.scatterplot(x=pol[:,0],y=pol[:,1],hue=Y)\n",
        "xx = np.linspace(0.88,0.9,500)\n",
        "\n",
        "y=(-w_new[0]*xx - w_new[2])/w_new[1]\n",
        "plt.plot(xx.T, y, label = 'Prediction Boundary',color='black')\n",
        "\n",
        "plt.legend(loc='best')\n",
        "plt.show()"
      ],
      "execution_count": 14,
      "outputs": [
        {
          "output_type": "display_data",
          "data": {
            "image/png": "[encoded data removed]",
            "text/plain": [
              "<Figure size 432x288 with 1 Axes>"
            ]
          },
          "metadata": {
            "tags": [],
            "needs_background": "light"
          }
        }
      ]
    },
    {
      "cell_type": "code",
      "metadata": {
        "id": "aXKV9Pf7virc",
        "colab_type": "code",
        "colab": {
          "base_uri": "https://localhost:8080/",
          "height": 282
        },
        "outputId": "b3f23c84-4f4d-40e4-8e66-0265a31a93e0"
      },
      "source": [
        "cart=pol2cart(xx,(-w_new[0]*xx - w_new[2])/w_new[1])\n",
        "cart=np.column_stack((cart[0],cart[1]))\n",
        "plt.scatter(x=cart[:,0],y=cart[:,1], label = 'Decision Boundary',color='red', s=3)\n",
        "sns.scatterplot(x=X[:,0],y=X[:,1],hue=Y)"
      ],
      "execution_count": 15,
      "outputs": [
        {
          "output_type": "execute_result",
          "data": {
            "text/plain": [
              "<matplotlib.axes._subplots.AxesSubplot at 0x7f44c2760da0>"
            ]
          },
          "metadata": {
            "tags": []
          },
          "execution_count": 15
        },
        {
          "output_type": "display_data",
          "data": {
            "image/png": "[encoded data removed]",
            "text/plain": [
              "<Figure size 432x288 with 1 Axes>"
            ]
          },
          "metadata": {
            "tags": [],
            "needs_background": "light"
          }
        }
      ]
    }
  ]
}